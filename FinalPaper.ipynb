{
 "cells": [
  {
   "cell_type": "markdown",
   "id": "13c03a45-0c8d-4ed2-8ad5-6b9ad696a924",
   "metadata": {},
   "source": [
    "<!-- BIBLIOGRAPHY START -->\n",
    "<div class=\"csl-bib-body\">\n",
    "</div>\n",
    "<!-- BIBLIOGRAPHY END -->"
   ]
  },
  {
   "cell_type": "markdown",
   "id": "05f0eaa6-402e-4500-ac94-b3bafea9e722",
   "metadata": {},
   "source": [
    "## Human Tutors vs LLM Tutors: Exploring the Implications of Replacement in Communicative Contexts"
   ]
  },
  {
   "cell_type": "markdown",
   "id": "2e0a1391-4385-4cca-a1ca-3e1495e2e2f4",
   "metadata": {},
   "source": [
    "**By Emmy Keogh**"
   ]
  },
  {
   "cell_type": "markdown",
   "id": "6a60c94a-c2fe-4256-b4ad-e0d0e3a640e7",
   "metadata": {
    "citation-manager": {
     "citations": {
      "88eq5": [
       {
        "id": "15913771/XEZNEVP6",
        "source": "zotero"
       }
      ],
      "thm6d": [
       {
        "id": "15913771/HU53N9YC",
        "source": "zotero"
       }
      ]
     }
    }
   },
   "source": [
    "Interacting with technology as part of our daily routines isn't new. For reference, Siri has been out since 2011 <cite id=\"88eq5\"><a href=\"#zotero%7C15913771%2FXEZNEVP6\">(‘10 years of Siri: the history of Apple’s voice assistant | TechRadar’ n.d.)</a></cite> and Google receives 99,000 searches per second, estimating about 8.5 million searches per day <cite id=\"thm6d\"><a href=\"#zotero%7C15913771%2FHU53N9YC\">(Rico 2024)</a></cite>. However, the recent uptick in AI and the speed at which this technology is moving is undeniably altering how not only computer scientists but also the public are imagining the future of technology integrated into our daily lives. In just two years, reliance on large language models (LLMs) has grown significantly, with high schoolers using ChatGPT for homework and adults favoring the more efficient Gemini over Google. But these age groups at least knew a time without the ease of AI-- a growing concern is for elementary school students and middle schoolers who might grow too dependent on this new education hack. When thinking about where artificial intelligence may be implemented into society besides as a new search engine, one can't help but think about the societal and educational sectors being impacted. Tutoring, an expensive, time-consuming, relationship-based activity, could be replaced by a less expensive and more time-flexible LLM in the next few years. To understand the differences, this paper will dive into the experience of a normal tutoring session of a middle school student and their tutor and compare it with a prompted LLM to fill in as the tutor."
   ]
  },
  {
   "cell_type": "markdown",
   "id": "91790b83-d326-470d-a36c-c8bed00afc86",
   "metadata": {
    "citation-manager": {
     "citations": {
      "qrxpf": [
       {
        "id": "15913771/8B98ZD87",
        "source": "zotero"
       }
      ]
     }
    }
   },
   "source": [
    "Before we begin, it's crucial to understand the current context of tutoring. There are various levels of tutoring, with the most rigorous being known as high-dosage tutoring. This type involves sessions that last more than 30 minutes and occur more than three times a week. It is conducted by a well-trained tutor for a single student and \"aligns with an evidence-based core curriculum or program\" <cite id=\"qrxpf\"><a href=\"#zotero%7C15913771%2F8B98ZD87\">(Sparks 2023)</a></cite>. Unfortunately, according to the National Center for Education Statistics School's Pulse Survey, only one in ten students receives high-dosage tutoring. While this form of tutoring is common in elementary schools, only about 26% of middle and high school students participate in it <cite id=\"qrxpf\"><a href=\"#zotero%7C15913771%2F8B98ZD87\">(Sparks, 2023)</a></cite>. This indicates a significant gap in the educational needs of middle schoolers, particularly at such a critical point in their learning journey. It presents a clear opportunity for a more flexible and affordable tutoring service through AI, but it's important to understand the advantages and drawbacks of in-person tutoring before attempting to expand the industry."
   ]
  },
  {
   "cell_type": "markdown",
   "id": "c51669ab-0de5-475b-badd-cc2796a7979d",
   "metadata": {
    "citation-manager": {
     "citations": {
      "qrxpf": []
     }
    }
   },
   "source": [
    "Students experience a stark transition in middle school, moving from one teacher for all subjects and having recess, to a more structured learning environment with lettered grades. To ease this transition, these students need appropriate resources to feel well-adjusted. Often, middle school is more challenging than some students are prepared for, leading to a need for tutoring. However, as discussed earlier, there are significant drawbacks. For instance, the average tutoring rate for middle schoolers in 2024 ranges from $25 to $80 per hour. The price varies depending on location, the tutor's expertise and experience, and the course's difficulty ('Average Tutoring Rates - How Much Do Tutors Charge in 2024?'). Payment poses a challenge not only for the students’ families but also for the schools. Recently, schools have struggled to find and pay tutors. Approximately 40 percent of schools have reported that they \"can’t find qualified staff (or lack the funds to pay them) to sustain either regular or high-dosage tutoring programs\" <cite id=\"qrxpf\"><a href=\"#zotero%7C15913771%2F8B98ZD87\">(Sparks 2023)</a></cite>. Additionally, middle school students often engage in numerous extracurricular activities, and two out of five schools have stated that their schedules do not accommodate tutoring during school hours (Sparks, 2023). Whether the activities involve travel sports or choir practice, they consume the free time available for tutoring services. Another concern is the social pressures—middle school is a judgmental time for these students, and appearing to need tutoring can be detrimental to a child’s self-esteem ('Embarrassed Son Skips Tutoring Appointments'). For these reasons, LLM tutoring services could be a better option, offering numerous solutions."
   ]
  },
  {
   "cell_type": "markdown",
   "id": "a7fe75e0-da7e-423a-b134-6dddadcdce57",
   "metadata": {},
   "source": [
    "While drawbacks are noted, it’s also important to consider the benefits of in-person tutoring. An article by Oxford Learning discusses the advantages for young students receiving tutoring. Educationally, tutoring offers many positives, such as \"overcoming learning obstacles\" through \"individualized attention\" ('Benefits of Tutoring - How Does Tutoring Help Students?'). This can lead to increased confidence in the classroom and foster a love of learning. Moreover, in-person tutoring helps improve interpersonal skills. Sessions assist these kids in becoming “better communicators,” building trusting relationships, and making more positive behavioral adjustments ('Benefits of Tutoring - How Does Tutoring Help Students?'). Part of having a tutor involves building that relationship and developing people skills in a professional yet comfortable environment, benefits that are not achievable with LLMs."
   ]
  },
  {
   "cell_type": "markdown",
   "id": "e18da1c5-7dc0-495e-8d01-4f0343eb805d",
   "metadata": {},
   "source": [
    "In-person tutoring typically follows a fairly specific format regardless of the subject matter. Each session should be one-on-one to make the student feel comfortable and focused, without making them feel inadequate. To achieve this, the National Student Support Accelerator has outlined a structure for a successful session. It begins with a “session opening” exercise, such as checking in on the student's weekend or asking questions about a hobby to build rapport. Next, start the lesson with an “entrance ticket” that revisits a topic from the previous session, or, if it’s the first session, warm up the student with a review of what they are about to learn. The third step is to outline the focus of the day’s session and “keep a written version on display in an accessible location throughout the session” ('National Student Support Accelerator'). This step includes “activating relevant prior knowledge with leading questions” related to the day’s topic ('National Student Support Accelerator'). Then, proceed with a mini-lesson that includes an explicit model demonstrating how to solve the problem, ensuring the model is clear and simple, with “emphasis on the most important step,” and relevant to the student’s practice tests or examples ('National Student Support Accelerator'). The fifth step involves providing the student with “purposeful independent practice” ('National Student Support Accelerator'), where the student works independently, and if they struggle, the tutor should “ask guiding questions; don’t provide answers” ('National Student Support Accelerator'). Finally, conclude the session with a short “formative assessment” ('National Student Support Accelerator'), allowing students to demonstrate their understanding of the learning objective stated at the beginning of the session."
   ]
  },
  {
   "cell_type": "markdown",
   "id": "ac6b2d20-fd50-4fd0-bc19-57bf70d64390",
   "metadata": {
    "citation-manager": {
     "citations": {
      "qrxpf": []
     }
    }
   },
   "source": [
    "For an LLM to replace a tutor, the expectation is that it would be effective at keeping the student on track if prompted correctly, but it has limitations. The American Enterprise Institute published an article titled \"Why AI Struggles with Basic Math (and How That's Changing).\" It's important to note that the majority of tutoring for middle schoolers involves math or reading <cite id=\"qrxpf\"><a href=\"#zotero%7C15913771%2F8B98ZD87\">(Sparks 2023)</a></cite>, so an AI's inability to match an educated human's level of expertise in mathematics is a significant drawback. Interestingly, this disparity in competence across different subjects arises from \"LLMs’ foundational bias towards linguistic rather than mathematical intelligence.” With less “complex math in their training data, [this limits] their grasp of advanced mathematical concepts\" ('Why AI Struggles with Basic Math (and How That's Changing)'). As the amount of training data increases, LLMs will inevitably improve their mathematical capabilities. Another reason LLMs could function as tutors is that AI can become personalized over time through the use of predictive analytics with the student’s data, leading to a more effective output of questions and explanations tailored to the learning style that best suits the particular student ('The Pros And Cons Of AI In Education And How It Will Impact Teachers In 2023')."
   ]
  },
  {
   "cell_type": "markdown",
   "id": "aa9971ac-2410-48b5-ba83-d50e2869a734",
   "metadata": {},
   "source": [
    "To better understand the application of LLMs as tutors, I used two well-established LLMs: ChatGPT 4 and Gemini. There are many AI tutoring services available, but I wanted one that was free and utilized my own prompting, which is why I opted for public LLMs. I adapted the format of a regular tutoring session into a prompt for the LLMs to understand their roles as tutors. The sessions turned out to be quite personal and engaging. When the child (named Claire in this example) became bored, the LLMs would skillfully redirect her focus while considering her interests and attention span. The LLMs effectively guided Claire through her grammar homework, ensuring corrections were made when necessary. I found that Gemini was better at encouraging independent work without revealing the answers, requiring the student to check her work; however, as a student, I preferred the interaction with ChatGPT 4 because it was more time-efficient. ChatGPT 4 concluded our session with my homework completed, while Gemini left me with a deeper understanding. The ideal quick tutor would combine elements of both."
   ]
  },
  {
   "cell_type": "markdown",
   "id": "9d1feee8-ac9e-408f-9036-9b170e897496",
   "metadata": {},
   "source": [
    "The implications of transitioning to LLMs as tutors include concerns about displacing traditional tutors and the fear that students will lose the \"nuanced approach that a human teacher can offer\" ('The Pros And Cons Of AI In Education And How It Will Impact Teachers In 2023 | ClassPoint'). As a camp counselor during the summer of 2023 for 6th and 8th graders, I observed the detrimental effects of their extended online learning during their middle school years. Both age groups appeared socially delayed by about two years, with the 8th graders behaving like 6th graders and the 6th graders acting like 4th graders. I am not suggesting that the impact of AI tutors will be as significant as two years of online classes, but this experience further supports the argument that teachers and tutors cannot be replaced by LLMs, as children learn much more than just facts in school."
   ]
  },
  {
   "cell_type": "markdown",
   "id": "8d8f277d-6048-419b-9a53-bc58683c1024",
   "metadata": {},
   "source": [
    "In conclusion, when we engage in communication, we bring a lot of extra information to the conversation that LLMs have not yet been able to replicate. While there is a place for AI tutors in education, they should not be seen as a long-term solution. LLM tutors are best suited for last-minute sessions to accommodate students' schedules, as a cheaper alternative, and for quick, personalized practice problems. However, they should not replace homeschooling or high-dosage tutoring. Instead, they should be used to \"augment the learning experience, not replace it\" ('The Rise Of AI Tutors')."
   ]
  }
 ],
 "metadata": {
  "citation-manager": {
   "items": {
    "zotero": {
     "15913771/8B98ZD87": {
      "URL": "https://www.edweek.org/leadership/the-state-of-school-tutoring-in-charts/2023/02",
      "abstract": "This blog post is to help me understand the current state of tutoring statistics. I've learned that \"only about 1 in 10 students actually gets high-dosage tutoring\" which is qualified as \"\n- Taught 1-1 or in small group\n- Taught by educators or well-trained tutors\n- Aligns with an evidence-based core curriculum or program\n- >30 minutes per session\n- >3 times a week\n\". I thought it was interesting that high-dosage tutoring \"was concentrated in elementary schools [and] more than 60 percent of secondary schools offered standard tutoring, but little more than 26 percent of middle and high schools offered high-dosage tutoring.\" I think this shows a gap in middle schoolers education needs, especially at such a pivitol point in their learning career, which is why I'll focus my attention on middle schoolers. Also, middle school is usually a time when out of school activities pick up and they don't have time for high-dosage tutoring. \"About 2 out of 5 schools also said they can’t find the time in their regular school schedule to tutor students.\" On top of that, schools have expressed challenges with paying their tutors-- \"at least 40 percent of schools said they can’t find qualified staff (or lack the money to pay them) to sustain either regular or high-dosage tutoring programs.\"",
      "accessed": {
       "date-parts": [
        [
         2024,
         5,
         12
        ]
       ]
      },
      "author": [
       {
        "family": "Sparks",
        "given": "Sarah D."
       }
      ],
      "container-title": "Education Week",
      "id": "15913771/8B98ZD87",
      "issued": {
       "date-parts": [
        [
         2023,
         2,
         9
        ]
       ]
      },
      "language": "en",
      "section": "Leadership, Student Achievement",
      "system_id": "zotero|15913771/8B98ZD87",
      "title": "The State of School Tutoring, in Charts",
      "type": "article-newspaper"
     },
     "15913771/HU53N9YC": {
      "URL": "https://fitsmallbusiness.com/google-search-statistics/",
      "abstract": "Google runs around 99,000 search queries per second, which adds up to a whopping 8.5 billion searches a day.",
      "accessed": {
       "date-parts": [
        [
         2024,
         5,
         13
        ]
       ]
      },
      "author": [
       {
        "family": "Rico",
        "given": "Audrey Rawnie"
       }
      ],
      "container-title": "Fit Small Business",
      "id": "15913771/HU53N9YC",
      "issued": {
       "date-parts": [
        [
         2024,
         1,
         29
        ]
       ]
      },
      "language": "en-US",
      "system_id": "zotero|15913771/HU53N9YC",
      "title": "40+ Essential Google Search Statistics for 2024",
      "type": "webpage"
     },
     "15913771/XEZNEVP6": {
      "URL": "https://www.techradar.com/news/siri-10-year-anniversary",
      "accessed": {
       "date-parts": [
        [
         2024,
         5,
         13
        ]
       ]
      },
      "id": "15913771/XEZNEVP6",
      "system_id": "zotero|15913771/XEZNEVP6",
      "title": "10 years of Siri: the history of Apple's voice assistant | TechRadar",
      "type": "article"
     }
    }
   },
   "style": "rmit-university-harvard.csl"
  },
  "kernelspec": {
   "display_name": "Python 3.8",
   "language": "python",
   "name": "python3"
  },
  "language_info": {
   "codemirror_mode": {
    "name": "ipython",
    "version": 3
   },
   "file_extension": ".py",
   "mimetype": "text/x-python",
   "name": "python",
   "nbconvert_exporter": "python",
   "pygments_lexer": "ipython3",
   "version": "3.8.8"
  }
 },
 "nbformat": 4,
 "nbformat_minor": 5
}
