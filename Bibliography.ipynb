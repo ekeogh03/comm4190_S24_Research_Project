{
 "cells": [
  {
   "cell_type": "markdown",
   "id": "5193d3f9-ed97-4813-9608-b5d4e3beefe4",
   "metadata": {},
   "source": [
    "## Annotated Bibliography"
   ]
  },
  {
   "cell_type": "code",
   "execution_count": 1,
   "id": "2d7b815a-f2b8-4394-a7ca-076b4c7f015d",
   "metadata": {},
   "outputs": [
    {
     "data": {
      "text/plain": [
       "{'id': '15913771/FGJQ4DLW',\n",
       " 'type': 'webpage',\n",
       " 'title': 'Example Tutoring Session Structure | National Student Support Accelerator',\n",
       " 'abstract': 'This is going to really help my prompting with LLMs to get the structure correct with tutoring sessions. The article describes the setup as \\n1. Session Opening: Relationship-Building (Examples: Check-in about the student’s day or week; have a conversation about hobbies, interests, or extra-curricular responsibilities; start with an icebreaker or age-appropriate game (if Student-Tutor Ratio is Small Groups)) \\n2. Data Touchpoint\\n(Shift the conversation smoothly to a follow-up from the previous session, culminating in an “entrance ticket” that assesses the student’s current mastery of a relevant skill they learned previously or a new skill they will use today.) \\n3. Framing & Objective\\n(Introduce the session’s topic or focus. (Optional: give students a preview of the specific work they will do today.)\\nActivate relevant prior knowledge with leading questions that guide students to make connections to today’s topic.\\nClearly state today’s learning objective aloud and keep a written version on display in an accessible location throughout the session.) 4. Mini Lesson & Explicit Model\\n(Explicitly model the step-by-step process that students will use to reach the session’s learning goal:\\nModel examples: List out steps in applying a formula, use a written exemplar to demonstrate how to write or analyze a particular type of text, or articulate a thinking process through a series of questions.\\nUse these criteria to evaluate the model’s effectiveness:\\nWas my model clear and concise?\\nWas my model aligned with the student practice and the formative assessment?\\nDid I make all my thinking visible?\\nDid I place intentional emphasis on the most important step?)\\n5. Purposeful Independent Practice\\n(Provide plenty of time for multiple “at-bats” — opportunities for students to practice the skill or concept. \\nPractice should be as independent as possible. If students get stuck, ask guiding questions; don’t provide answers.)\\n6. Formative Assessment\\n(Let students demonstrate their progress towards mastery of the skill or content. Did they reach the learning goal?\\nFormative Assessments should be short, and should ask students to do only what was modeled and practiced.\\nAn exit ticket is often used as a formative assessment at the end of a tutoring session.)',\n",
       " 'URL': 'https://studentsupportaccelerator.org/tutoring/instruction/session-structure/example-tutoring-session-structure',\n",
       " 'accessed': {'date-parts': [[2024, 5, 12]]}}"
      ]
     },
     "execution_count": 1,
     "metadata": {},
     "output_type": "execute_result"
    }
   ],
   "source": [
    "{\n",
    "    \"id\": \"15913771/FGJQ4DLW\",\n",
    "    \"type\": \"webpage\",\n",
    "    \"title\": \"Example Tutoring Session Structure | National Student Support Accelerator\",\n",
    "    \"abstract\": \"This is going to really help my prompting with LLMs to get the structure correct with tutoring sessions. The article describes the setup as \\n1. Session Opening: Relationship-Building (Examples: Check-in about the student’s day or week; have a conversation about hobbies, interests, or extra-curricular responsibilities; start with an icebreaker or age-appropriate game (if Student-Tutor Ratio is Small Groups)) \\n2. Data Touchpoint\\n(Shift the conversation smoothly to a follow-up from the previous session, culminating in an “entrance ticket” that assesses the student’s current mastery of a relevant skill they learned previously or a new skill they will use today.) \\n3. Framing & Objective\\n(Introduce the session’s topic or focus. (Optional: give students a preview of the specific work they will do today.)\\nActivate relevant prior knowledge with leading questions that guide students to make connections to today’s topic.\\nClearly state today’s learning objective aloud and keep a written version on display in an accessible location throughout the session.) 4. Mini Lesson & Explicit Model\\n(Explicitly model the step-by-step process that students will use to reach the session’s learning goal:\\nModel examples: List out steps in applying a formula, use a written exemplar to demonstrate how to write or analyze a particular type of text, or articulate a thinking process through a series of questions.\\nUse these criteria to evaluate the model’s effectiveness:\\nWas my model clear and concise?\\nWas my model aligned with the student practice and the formative assessment?\\nDid I make all my thinking visible?\\nDid I place intentional emphasis on the most important step?)\\n5. Purposeful Independent Practice\\n(Provide plenty of time for multiple “at-bats” — opportunities for students to practice the skill or concept. \\nPractice should be as independent as possible. If students get stuck, ask guiding questions; don’t provide answers.)\\n6. Formative Assessment\\n(Let students demonstrate their progress towards mastery of the skill or content. Did they reach the learning goal?\\nFormative Assessments should be short, and should ask students to do only what was modeled and practiced.\\nAn exit ticket is often used as a formative assessment at the end of a tutoring session.)\",\n",
    "    \"URL\": \"https://studentsupportaccelerator.org/tutoring/instruction/session-structure/example-tutoring-session-structure\",\n",
    "    \"accessed\": {\n",
    "        \"date-parts\": [\n",
    "            [\n",
    "                2024,\n",
    "                5,\n",
    "                12\n",
    "            ]\n",
    "        ]\n",
    "    }\n",
    "}"
   ]
  },
  {
   "cell_type": "code",
   "execution_count": 2,
   "id": "04e53241-c1f2-4e41-8ab9-372e87ca4bc6",
   "metadata": {},
   "outputs": [
    {
     "data": {
      "text/plain": [
       "{'id': '15913771/Y2MGV5A6',\n",
       " 'type': 'post-weblog',\n",
       " 'title': \"Why AI Struggles with Basic Math (and How That's Changing)\",\n",
       " 'container-title': 'American Enterprise Institute - AEI',\n",
       " 'abstract': 'This article discusses why LLMs struggles with basic math problems. \"These difficulties stem from LLMs’ foundational bias towards linguistic rather than mathematical intelligence, a gap further widened by the scarcity of complex math in their training data, limiting their grasp of advanced mathematical concepts.\" To conclude, \"the trajectory of LLMs is undeniably upward, fueled by continuous advancements and innovative solutions. Specialized models and integration with computational tools underscore a future where LLMs not only comprehend and generate language with unprecedented sophistication but also navigate complex mathematics with ease.\"',\n",
       " 'URL': 'https://www.aei.org/technology-and-innovation/why-ai-struggles-with-basic-math-and-how-thats-changing/',\n",
       " 'language': 'en-US',\n",
       " 'author': [{'family': 'O’Brien-Powers', 'given': 'Owen'}],\n",
       " 'issued': {'date-parts': [[2024, 3, 4]]},\n",
       " 'accessed': {'date-parts': [[2024, 5, 12]]},\n",
       " 'date': '2024-04-04T04:00:00.000Z'}"
      ]
     },
     "execution_count": 2,
     "metadata": {},
     "output_type": "execute_result"
    }
   ],
   "source": [
    "\n",
    "{\n",
    "    \"id\": \"15913771/Y2MGV5A6\",\n",
    "    \"type\": \"post-weblog\",\n",
    "    \"title\": \"Why AI Struggles with Basic Math (and How That's Changing)\",\n",
    "    \"container-title\": \"American Enterprise Institute - AEI\",\n",
    "    \"abstract\": \"This article discusses why LLMs struggles with basic math problems. \\\"These difficulties stem from LLMs’ foundational bias towards linguistic rather than mathematical intelligence, a gap further widened by the scarcity of complex math in their training data, limiting their grasp of advanced mathematical concepts.\\\" To conclude, \\\"the trajectory of LLMs is undeniably upward, fueled by continuous advancements and innovative solutions. Specialized models and integration with computational tools underscore a future where LLMs not only comprehend and generate language with unprecedented sophistication but also navigate complex mathematics with ease.\\\"\",\n",
    "    \"URL\": \"https://www.aei.org/technology-and-innovation/why-ai-struggles-with-basic-math-and-how-thats-changing/\",\n",
    "    \"language\": \"en-US\",\n",
    "    \"author\": [\n",
    "        {\n",
    "            \"family\": \"O’Brien-Powers\",\n",
    "            \"given\": \"Owen\"\n",
    "        }\n",
    "    ],\n",
    "    \"issued\": {\n",
    "        \"date-parts\": [\n",
    "            [\n",
    "                2024,\n",
    "                3,\n",
    "                4\n",
    "            ]\n",
    "        ]\n",
    "    },\n",
    "    \"accessed\": {\n",
    "        \"date-parts\": [\n",
    "            [\n",
    "                2024,\n",
    "                5,\n",
    "                12\n",
    "            ]\n",
    "        ]\n",
    "    },\n",
    "    \"date\": \"2024-04-04T04:00:00.000Z\"\n",
    "}"
   ]
  },
  {
   "cell_type": "code",
   "execution_count": 3,
   "id": "f547cf67-1ae4-43dc-96a8-ec80cfa0d220",
   "metadata": {},
   "outputs": [
    {
     "data": {
      "text/plain": [
       "{'id': '15913771/K9J78X3T',\n",
       " 'type': 'webpage',\n",
       " 'title': 'Average Tutoring Rates - How Much Do Tutors Charge in 2024?',\n",
       " 'abstract': 'This is a quick article just to get me familar with the prices of human/normal tutoring services. \"Tutoring rates vary from state to state and subject to subject, but on average, a private tutor costs roughly between $15 and $80 an hour. Rates may vary depending on a variety of factors including the tutor’s education level, expertise, and the difficulty of the subject to name a few.\" For middle schoolers, the rate is $25 to $80 per hour.',\n",
       " 'URL': 'https://tutorcruncher.com/average-tutoring-rates/',\n",
       " 'language': 'en',\n",
       " 'issued': {'date-parts': [[2024, 2, 26]]},\n",
       " 'accessed': {'date-parts': [[2024, 5, 12]]},\n",
       " 'date': '2024-03-26T04:00:00.000Z'}"
      ]
     },
     "execution_count": 3,
     "metadata": {},
     "output_type": "execute_result"
    }
   ],
   "source": [
    "\n",
    "{\n",
    "    \"id\": \"15913771/K9J78X3T\",\n",
    "    \"type\": \"webpage\",\n",
    "    \"title\": \"Average Tutoring Rates - How Much Do Tutors Charge in 2024?\",\n",
    "    \"abstract\": \"This is a quick article just to get me familar with the prices of human/normal tutoring services. \\\"Tutoring rates vary from state to state and subject to subject, but on average, a private tutor costs roughly between $15 and $80 an hour. Rates may vary depending on a variety of factors including the tutor’s education level, expertise, and the difficulty of the subject to name a few.\\\" For middle schoolers, the rate is $25 to $80 per hour.\",\n",
    "    \"URL\": \"https://tutorcruncher.com/average-tutoring-rates/\",\n",
    "    \"language\": \"en\",\n",
    "    \"issued\": {\n",
    "        \"date-parts\": [\n",
    "            [\n",
    "                2024,\n",
    "                2,\n",
    "                26\n",
    "            ]\n",
    "        ]\n",
    "    },\n",
    "    \"accessed\": {\n",
    "        \"date-parts\": [\n",
    "            [\n",
    "                2024,\n",
    "                5,\n",
    "                12\n",
    "            ]\n",
    "        ]\n",
    "    },\n",
    "    \"date\": \"2024-03-26T04:00:00.000Z\"\n",
    "}"
   ]
  },
  {
   "cell_type": "code",
   "execution_count": 4,
   "id": "2e9a3758-ff8c-4fb3-b098-fb9777b79fa2",
   "metadata": {},
   "outputs": [
    {
     "data": {
      "text/plain": [
       "{'id': '15913771/QIDA48FW',\n",
       " 'type': 'webpage',\n",
       " 'title': 'The Pros And Cons Of AI In Education And How It Will Impact Teachers In 2023 | ClassPoint',\n",
       " 'abstract': 'One of the pros of AI in education this article mentions is the cost-effective learning. Tutoring services can be so expensive. \"With AI in education, educational institutions can save on budget by cutting down resources required to operate efficiently, thereby increasing cost-effectiveness.\" Also, AI can become personalized with use overtime so \"AI-powered EdTech tools can easily collect, analyze, and provide report data to teachers on student learning outcomes and behavior patterns. By using predictive analytics, AI can provide educators with valuable insights from predicting future performance, providing personalized interventions, early identification of at-risk students, and refining instructional strategies.\" As for the cons, of course there is the worry about putting normal tutors out of business, and it becomes a \"dehumanized learning experience... With AI algorithms generating content and deciding the pacing of the lessons, students may miss out on the nuanced approach that a human teacher can offer. Additionally, AI algorithms can perpetuate bias, meaning that they may fail to provide an inclusive and diverse curriculum that is tailored to the needs of every student.\"',\n",
       " 'URL': 'https://www.classpoint.io/blog/the-pros-and-cons-of-ai-in-education',\n",
       " 'language': 'en',\n",
       " 'author': [{'family': 'ClassPoint', 'given': ''}],\n",
       " 'issued': {'date-parts': [[2024, 1, 19]]},\n",
       " 'accessed': {'date-parts': [[2024, 5, 12]]},\n",
       " 'date': '2024-02-19T05:00:00.000Z'}"
      ]
     },
     "execution_count": 4,
     "metadata": {},
     "output_type": "execute_result"
    }
   ],
   "source": [
    "\n",
    "{\n",
    "    \"id\": \"15913771/QIDA48FW\",\n",
    "    \"type\": \"webpage\",\n",
    "    \"title\": \"The Pros And Cons Of AI In Education And How It Will Impact Teachers In 2023 | ClassPoint\",\n",
    "    \"abstract\": \"One of the pros of AI in education this article mentions is the cost-effective learning. Tutoring services can be so expensive. \\\"With AI in education, educational institutions can save on budget by cutting down resources required to operate efficiently, thereby increasing cost-effectiveness.\\\" Also, AI can become personalized with use overtime so \\\"AI-powered EdTech tools can easily collect, analyze, and provide report data to teachers on student learning outcomes and behavior patterns. By using predictive analytics, AI can provide educators with valuable insights from predicting future performance, providing personalized interventions, early identification of at-risk students, and refining instructional strategies.\\\" As for the cons, of course there is the worry about putting normal tutors out of business, and it becomes a \\\"dehumanized learning experience... With AI algorithms generating content and deciding the pacing of the lessons, students may miss out on the nuanced approach that a human teacher can offer. Additionally, AI algorithms can perpetuate bias, meaning that they may fail to provide an inclusive and diverse curriculum that is tailored to the needs of every student.\\\"\",\n",
    "    \"URL\": \"https://www.classpoint.io/blog/the-pros-and-cons-of-ai-in-education\",\n",
    "    \"language\": \"en\",\n",
    "    \"author\": [\n",
    "        {\n",
    "            \"family\": \"ClassPoint\",\n",
    "            \"given\": \"\"\n",
    "        }\n",
    "    ],\n",
    "    \"issued\": {\n",
    "        \"date-parts\": [\n",
    "            [\n",
    "                2024,\n",
    "                1,\n",
    "                19\n",
    "            ]\n",
    "        ]\n",
    "    },\n",
    "    \"accessed\": {\n",
    "        \"date-parts\": [\n",
    "            [\n",
    "                2024,\n",
    "                5,\n",
    "                12\n",
    "            ]\n",
    "        ]\n",
    "    },\n",
    "    \"date\": \"2024-02-19T05:00:00.000Z\"\n",
    "}"
   ]
  },
  {
   "cell_type": "code",
   "execution_count": 5,
   "id": "c6371db9-f395-459e-b9d1-e99fd60a2ccc",
   "metadata": {},
   "outputs": [
    {
     "data": {
      "text/plain": [
       "{'id': '15913771/J8HQ2F5P',\n",
       " 'type': 'webpage',\n",
       " 'title': 'The Rise Of AI Tutors',\n",
       " 'abstract': 'This article starts off talking about the use of AI in college and highschools around the country. He worries \"AI shortcuts could deprive students of the depth of learning experiences that come out of more traditional learning methods. While most educators understand the potential of using AI in education, they prefer that AI is used to augment the learning experience, not replace it.\" As we\\'ve discussed in our AI focused class, it\\'s important to move with the technology and it\\'s astonishing growth then to be left behind. Of course though, as the author argues, when students don\\'t have to work to learn, educators are worried their brains are not being stimulated or stretched enough. He continues that a teacher gave him advice to look at AI differently than a shortcut but moreso as a tutor. \"A tutor\\'s role is to augment the learning experience, not replace it.\"',\n",
       " 'URL': 'https://www.forbes.com/sites/timbajarin/2024/03/01/the-rise-of-ai-tutors/?sh=554cb6e51881',\n",
       " 'accessed': {'date-parts': [[2024, 5, 12]]}}"
      ]
     },
     "execution_count": 5,
     "metadata": {},
     "output_type": "execute_result"
    }
   ],
   "source": [
    "{\n",
    "    \"id\": \"15913771/J8HQ2F5P\",\n",
    "    \"type\": \"webpage\",\n",
    "    \"title\": \"The Rise Of AI Tutors\",\n",
    "    \"abstract\": \"This article starts off talking about the use of AI in college and highschools around the country. He worries \\\"AI shortcuts could deprive students of the depth of learning experiences that come out of more traditional learning methods. While most educators understand the potential of using AI in education, they prefer that AI is used to augment the learning experience, not replace it.\\\" As we've discussed in our AI focused class, it's important to move with the technology and it's astonishing growth then to be left behind. Of course though, as the author argues, when students don't have to work to learn, educators are worried their brains are not being stimulated or stretched enough. He continues that a teacher gave him advice to look at AI differently than a shortcut but moreso as a tutor. \\\"A tutor's role is to augment the learning experience, not replace it.\\\"\",\n",
    "    \"URL\": \"https://www.forbes.com/sites/timbajarin/2024/03/01/the-rise-of-ai-tutors/?sh=554cb6e51881\",\n",
    "    \"accessed\": {\n",
    "        \"date-parts\": [\n",
    "            [\n",
    "                2024,\n",
    "                5,\n",
    "                12\n",
    "            ]\n",
    "        ]\n",
    "    }\n",
    "}"
   ]
  },
  {
   "cell_type": "code",
   "execution_count": 6,
   "id": "3ea91cf8-e434-4ea2-87e8-4f5d6a8d532e",
   "metadata": {},
   "outputs": [
    {
     "data": {
      "text/plain": [
       "{'id': '15913771/RT952D2S',\n",
       " 'type': 'webpage',\n",
       " 'title': 'Benefits of Tutoring - How Does Tutoring Help Students?',\n",
       " 'container-title': 'Oxford Learning',\n",
       " 'abstract': 'This article goes over the benefits of tutoring ranging from receiving \"individualized attention\" to \"overcoming learning obstacles\" to confidence in the classroom. What I found interesting though was the benefit: \"Improves social and behavioural skills: Tutoring services will help your child become a better communicator, form better relationships with peers, and make more positive social and behavioural adjustments.\" I agree that part of having a tutor is building that relationship and developing people skills in a more professional but comfortable environment. With LLMs, I\\'m afraid that benefit won\\'t get through.',\n",
       " 'URL': 'https://www.oxfordlearning.com/benefits-of-tutoring/',\n",
       " 'language': 'en-CA',\n",
       " 'accessed': {'date-parts': [[2024, 5, 12]]}}"
      ]
     },
     "execution_count": 6,
     "metadata": {},
     "output_type": "execute_result"
    }
   ],
   "source": [
    "{\n",
    "    \"id\": \"15913771/RT952D2S\",\n",
    "    \"type\": \"webpage\",\n",
    "    \"title\": \"Benefits of Tutoring - How Does Tutoring Help Students?\",\n",
    "    \"container-title\": \"Oxford Learning\",\n",
    "    \"abstract\": \"This article goes over the benefits of tutoring ranging from receiving \\\"individualized attention\\\" to \\\"overcoming learning obstacles\\\" to confidence in the classroom. What I found interesting though was the benefit: \\\"Improves social and behavioural skills: Tutoring services will help your child become a better communicator, form better relationships with peers, and make more positive social and behavioural adjustments.\\\" I agree that part of having a tutor is building that relationship and developing people skills in a more professional but comfortable environment. With LLMs, I'm afraid that benefit won't get through.\",\n",
    "    \"URL\": \"https://www.oxfordlearning.com/benefits-of-tutoring/\",\n",
    "    \"language\": \"en-CA\",\n",
    "    \"accessed\": {\n",
    "        \"date-parts\": [\n",
    "            [\n",
    "                2024,\n",
    "                5,\n",
    "                12\n",
    "            ]\n",
    "        ]\n",
    "    }\n",
    "}"
   ]
  },
  {
   "cell_type": "code",
   "execution_count": 7,
   "id": "92494094-73e8-47d1-97d8-55a80d3f5b3a",
   "metadata": {},
   "outputs": [
    {
     "data": {
      "text/plain": [
       "{'id': '15913771/8B98ZD87',\n",
       " 'type': 'article-newspaper',\n",
       " 'title': 'The State of School Tutoring, in Charts',\n",
       " 'container-title': 'Education Week',\n",
       " 'section': 'Leadership, Student Achievement',\n",
       " 'abstract': 'This blog post is to help me understand the current state of tutoring statistics. I\\'ve learned that \"only about 1 in 10 students actually gets high-dosage tutoring\" which is qualified as \"\\n- Taught 1-1 or in small group\\n- Taught by educators or well-trained tutors\\n- Aligns with an evidence-based core curriculum or program\\n- >30 minutes per session\\n- >3 times a week\\n\". I thought it was interesting that high-dosage tutoring \"was concentrated in elementary schools [and] more than 60 percent of secondary schools offered standard tutoring, but little more than 26 percent of middle and high schools offered high-dosage tutoring.\" I think this shows a gap in middle schoolers education needs, especially at such a pivitol point in their learning career, which is why I\\'ll focus my attention on middle schoolers. Also, middle school is usually a time when out of school activities pick up and they don\\'t have time for high-dosage tutoring. \"About 2 out of 5 schools also said they can’t find the time in their regular school schedule to tutor students.\" On top of that, schools have expressed challenges with paying their tutors-- \"at least 40 percent of schools said they can’t find qualified staff (or lack the money to pay them) to sustain either regular or high-dosage tutoring programs.\"',\n",
       " 'URL': 'https://www.edweek.org/leadership/the-state-of-school-tutoring-in-charts/2023/02',\n",
       " 'language': 'en',\n",
       " 'author': [{'family': 'Sparks', 'given': 'Sarah D.'}],\n",
       " 'issued': {'date-parts': [[2023, 2, 9]]},\n",
       " 'accessed': {'date-parts': [[2024, 5, 12]]},\n",
       " 'date': '2023-03-09T05:00:00.000Z'}"
      ]
     },
     "execution_count": 7,
     "metadata": {},
     "output_type": "execute_result"
    }
   ],
   "source": [
    "\n",
    "{\n",
    "    \"id\": \"15913771/8B98ZD87\",\n",
    "    \"type\": \"article-newspaper\",\n",
    "    \"title\": \"The State of School Tutoring, in Charts\",\n",
    "    \"container-title\": \"Education Week\",\n",
    "    \"section\": \"Leadership, Student Achievement\",\n",
    "    \"abstract\": \"This blog post is to help me understand the current state of tutoring statistics. I've learned that \\\"only about 1 in 10 students actually gets high-dosage tutoring\\\" which is qualified as \\\"\\n- Taught 1-1 or in small group\\n- Taught by educators or well-trained tutors\\n- Aligns with an evidence-based core curriculum or program\\n- >30 minutes per session\\n- >3 times a week\\n\\\". I thought it was interesting that high-dosage tutoring \\\"was concentrated in elementary schools [and] more than 60 percent of secondary schools offered standard tutoring, but little more than 26 percent of middle and high schools offered high-dosage tutoring.\\\" I think this shows a gap in middle schoolers education needs, especially at such a pivitol point in their learning career, which is why I'll focus my attention on middle schoolers. Also, middle school is usually a time when out of school activities pick up and they don't have time for high-dosage tutoring. \\\"About 2 out of 5 schools also said they can’t find the time in their regular school schedule to tutor students.\\\" On top of that, schools have expressed challenges with paying their tutors-- \\\"at least 40 percent of schools said they can’t find qualified staff (or lack the money to pay them) to sustain either regular or high-dosage tutoring programs.\\\"\",\n",
    "    \"URL\": \"https://www.edweek.org/leadership/the-state-of-school-tutoring-in-charts/2023/02\",\n",
    "    \"language\": \"en\",\n",
    "    \"author\": [\n",
    "        {\n",
    "            \"family\": \"Sparks\",\n",
    "            \"given\": \"Sarah D.\"\n",
    "        }\n",
    "    ],\n",
    "    \"issued\": {\n",
    "        \"date-parts\": [\n",
    "            [\n",
    "                2023,\n",
    "                2,\n",
    "                9\n",
    "            ]\n",
    "        ]\n",
    "    },\n",
    "    \"accessed\": {\n",
    "        \"date-parts\": [\n",
    "            [\n",
    "                2024,\n",
    "                5,\n",
    "                12\n",
    "            ]\n",
    "        ]\n",
    "    },\n",
    "    \"date\": \"2023-03-09T05:00:00.000Z\"\n",
    "}"
   ]
  },
  {
   "cell_type": "code",
   "execution_count": 10,
   "id": "8b80527c-1d80-4578-98f8-87fdfc021783",
   "metadata": {},
   "outputs": [
    {
     "data": {
      "text/plain": [
       "{'id': '15913771/4ITAJV3R',\n",
       " 'type': 'webpage',\n",
       " 'abstract': 'This is an example of middle schoolers feeling shamed or embarassed for having a tutor.',\n",
       " 'title': 'Embarrassed Son Skips Tutoring Appointments - Sense & Sensitivity | UExpress',\n",
       " 'URL': 'https://www.uexpress.com/life/sense-and-sensitivity/2018/11/12',\n",
       " 'accessed': {'date-parts': [[2024, 5, 13]]}}"
      ]
     },
     "execution_count": 10,
     "metadata": {},
     "output_type": "execute_result"
    }
   ],
   "source": [
    "{\n",
    "    \"id\": \"15913771/4ITAJV3R\",\n",
    "    \"type\": \"webpage\",\n",
    "    \"abstract\":  \"This is an example of middle schoolers feeling shamed or embarassed for having a tutor.\",\n",
    "    \"title\": \"Embarrassed Son Skips Tutoring Appointments - Sense & Sensitivity | UExpress\",\n",
    "    \"URL\": \"https://www.uexpress.com/life/sense-and-sensitivity/2018/11/12\",\n",
    "    \"accessed\": {\n",
    "        \"date-parts\": [\n",
    "            [\n",
    "                2024,\n",
    "                5,\n",
    "                13\n",
    "            ]\n",
    "        ]\n",
    "    }\n",
    "}"
   ]
  }
 ],
 "metadata": {
  "citation-manager": {
   "items": {},
   "style": "zoosystema.csl"
  },
  "kernelspec": {
   "display_name": "Python 3.11 (COMM4190)",
   "language": "python",
   "name": "comm4190"
  },
  "language_info": {
   "codemirror_mode": {
    "name": "ipython",
    "version": 3
   },
   "file_extension": ".py",
   "mimetype": "text/x-python",
   "name": "python",
   "nbconvert_exporter": "python",
   "pygments_lexer": "ipython3",
   "version": "3.11.7"
  }
 },
 "nbformat": 4,
 "nbformat_minor": 5
}
